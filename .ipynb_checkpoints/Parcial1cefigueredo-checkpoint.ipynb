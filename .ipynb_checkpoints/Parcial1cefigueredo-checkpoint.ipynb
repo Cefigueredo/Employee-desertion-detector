{
 "cells": [
  {
   "cell_type": "markdown",
   "id": "2102b4c9",
   "metadata": {},
   "source": [
    "# Parcial 1"
   ]
  },
  {
   "cell_type": "markdown",
   "id": "bc95c2bf",
   "metadata": {},
   "source": [
    "Al entregar la solución de este parcial, yo, Carlos Eduardo Figueredo Triana con código 201813445 me comprometo a no conversar durante el desarrollo de este examen con ninguna persona que no sea el profesor del curso, sobre aspectos relacionados con el parcial; tampoco utilizaré algún medio de comunicación por voz, texto o intercambio de archivos, para consultar o compartir con otros, información sobre el tema del parcial. Soy consciente y acepto las consecuencias que acarreará para mi desempeño académico cometer fraude en este parcial"
   ]
  },
  {
   "cell_type": "markdown",
   "id": "3c86e4c9",
   "metadata": {},
   "source": [
    "### Objetivo del negocio"
   ]
  },
  {
   "cell_type": "markdown",
   "id": "0da79140",
   "metadata": {},
   "source": [
    "Tecnologías Alpes busca que mediante algoritmos de Machine Learning se pueda saber cuáles son los factores más importantes que generan que un empleado deje de estar en la empresa.\n",
    "\n",
    "Variable objetivo: Permanece en empresa.\n",
    "\n",
    "Variables de decisión: Las demás variables que afecten si el empleado permanece en la empresa o no.\n",
    "\n",
    "Teniendo esto en cuenta, se usará el algoritmo de clasificación árboles de decisión.\n"
   ]
  },
  {
   "cell_type": "markdown",
   "id": "d9dac944",
   "metadata": {},
   "source": [
    "### 1. Perfilamiento y preparación de datos"
   ]
  },
  {
   "cell_type": "markdown",
   "id": "c9f31818",
   "metadata": {},
   "source": [
    "Se realiza importación de librerías"
   ]
  },
  {
   "cell_type": "code",
   "execution_count": 3,
   "id": "83b90bed",
   "metadata": {},
   "outputs": [],
   "source": [
    "# Librerías para manejo de datos\n",
    "import pandas as pd\n",
    "pd.set_option('display.max_columns', 25) # Número máximo de columnas a mostrar\n",
    "pd.set_option('display.max_rows', 50) # Numero máximo de filas a mostar\n",
    "import numpy as np\n",
    "np.random.seed(3301)\n",
    "import pandas as pd\n",
    "# Para preparar los datos\n",
    "from sklearn.preprocessing import LabelEncoder\n",
    "# Para crear el arbol de decisión \n",
    "from sklearn.tree import DecisionTreeClassifier \n",
    "# Para usar KNN como clasificador\n",
    "from sklearn.neighbors import KNeighborsClassifier\n",
    "# Para realizar la separación del conjunto de aprendizaje en entrenamiento y test.\n",
    "from sklearn.model_selection import train_test_split\n",
    "# Para evaluar el modelo\n",
    "from sklearn.metrics import confusion_matrix, classification_report, precision_score, recall_score, f1_score, accuracy_score\n",
    "from sklearn.metrics import plot_confusion_matrix\n",
    "# Para búsqueda de hiperparámetros\n",
    "from sklearn.model_selection import GridSearchCV\n",
    "# Para la validación cruzada\n",
    "from sklearn.model_selection import KFold \n",
    "#Librerías para la visualización\n",
    "import matplotlib.pyplot as plt\n",
    "# Seaborn\n",
    "import seaborn as sns \n",
    "from sklearn import tree"
   ]
  },
  {
   "cell_type": "markdown",
   "id": "309985d5",
   "metadata": {},
   "source": [
    "Luego importamos los datos"
   ]
  },
  {
   "cell_type": "code",
   "execution_count": 4,
   "id": "979cc9d9",
   "metadata": {},
   "outputs": [],
   "source": [
    "df=pd.read_csv('Datos_EmpleadosAlpes.csv', sep=';', encoding = 'utf-8', index_col=None)"
   ]
  },
  {
   "cell_type": "markdown",
   "id": "fcfe21ec",
   "metadata": {},
   "source": [
    "Vemos características de los datos"
   ]
  },
  {
   "cell_type": "code",
   "execution_count": 5,
   "id": "fdc14588",
   "metadata": {},
   "outputs": [
    {
     "data": {
      "text/plain": [
       "(781, 18)"
      ]
     },
     "execution_count": 5,
     "metadata": {},
     "output_type": "execute_result"
    }
   ],
   "source": [
    "df.shape"
   ]
  },
  {
   "cell_type": "code",
   "execution_count": 6,
   "id": "52358a94",
   "metadata": {},
   "outputs": [
    {
     "data": {
      "text/html": [
       "<div>\n",
       "<style scoped>\n",
       "    .dataframe tbody tr th:only-of-type {\n",
       "        vertical-align: middle;\n",
       "    }\n",
       "\n",
       "    .dataframe tbody tr th {\n",
       "        vertical-align: top;\n",
       "    }\n",
       "\n",
       "    .dataframe thead th {\n",
       "        text-align: right;\n",
       "    }\n",
       "</style>\n",
       "<table border=\"1\" class=\"dataframe\">\n",
       "  <thead>\n",
       "    <tr style=\"text-align: right;\">\n",
       "      <th></th>\n",
       "      <th>Edad</th>\n",
       "      <th>ViajesNegocio</th>\n",
       "      <th>PermaneceEnEmpresa</th>\n",
       "      <th>Distancia_casa</th>\n",
       "      <th>ID_empleado</th>\n",
       "      <th>Satisfacción_ambiente</th>\n",
       "      <th>Genero</th>\n",
       "      <th>Compromiso</th>\n",
       "      <th>Satisfaccion_trabajo</th>\n",
       "      <th>Estado_civil</th>\n",
       "      <th>Ingreso_mensual</th>\n",
       "      <th>SobreTiempo</th>\n",
       "      <th>Horas_Produccion</th>\n",
       "      <th>Bonos</th>\n",
       "      <th>Años_trabajando</th>\n",
       "      <th>Años_Compañia</th>\n",
       "      <th>Años_Rol_Actual</th>\n",
       "      <th>Años_Actual_Jefe</th>\n",
       "    </tr>\n",
       "  </thead>\n",
       "  <tbody>\n",
       "    <tr>\n",
       "      <th>0</th>\n",
       "      <td>29</td>\n",
       "      <td>Pocos</td>\n",
       "      <td>NO</td>\n",
       "      <td>5</td>\n",
       "      <td>471</td>\n",
       "      <td>3</td>\n",
       "      <td>Hombre</td>\n",
       "      <td>1.0</td>\n",
       "      <td>3</td>\n",
       "      <td>Soltero</td>\n",
       "      <td>2140</td>\n",
       "      <td>Si</td>\n",
       "      <td>80</td>\n",
       "      <td>0</td>\n",
       "      <td>7</td>\n",
       "      <td>6</td>\n",
       "      <td>1.0</td>\n",
       "      <td>0</td>\n",
       "    </tr>\n",
       "    <tr>\n",
       "      <th>1</th>\n",
       "      <td>30</td>\n",
       "      <td>Frecuentes</td>\n",
       "      <td>NO</td>\n",
       "      <td>8</td>\n",
       "      <td>1747</td>\n",
       "      <td>3</td>\n",
       "      <td>Mujer</td>\n",
       "      <td>2.0</td>\n",
       "      <td>4</td>\n",
       "      <td>Divorciado</td>\n",
       "      <td>2180</td>\n",
       "      <td>No</td>\n",
       "      <td>80</td>\n",
       "      <td>1</td>\n",
       "      <td>6</td>\n",
       "      <td>4</td>\n",
       "      <td>2.0</td>\n",
       "      <td>2</td>\n",
       "    </tr>\n",
       "    <tr>\n",
       "      <th>2</th>\n",
       "      <td>58</td>\n",
       "      <td>Pocos</td>\n",
       "      <td>NO</td>\n",
       "      <td>2</td>\n",
       "      <td>825</td>\n",
       "      <td>4</td>\n",
       "      <td>Hombre</td>\n",
       "      <td>3.0</td>\n",
       "      <td>2</td>\n",
       "      <td>Soltero</td>\n",
       "      <td>19246</td>\n",
       "      <td>Si</td>\n",
       "      <td>80</td>\n",
       "      <td>0</td>\n",
       "      <td>40</td>\n",
       "      <td>31</td>\n",
       "      <td>15.0</td>\n",
       "      <td>8</td>\n",
       "    </tr>\n",
       "    <tr>\n",
       "      <th>3</th>\n",
       "      <td>33</td>\n",
       "      <td>Pocos</td>\n",
       "      <td>NO</td>\n",
       "      <td>2</td>\n",
       "      <td>328</td>\n",
       "      <td>1</td>\n",
       "      <td>Mujer</td>\n",
       "      <td>3.0</td>\n",
       "      <td>1</td>\n",
       "      <td>Casado</td>\n",
       "      <td>2707</td>\n",
       "      <td>No</td>\n",
       "      <td>80</td>\n",
       "      <td>0</td>\n",
       "      <td>13</td>\n",
       "      <td>9</td>\n",
       "      <td>7.0</td>\n",
       "      <td>7</td>\n",
       "    </tr>\n",
       "    <tr>\n",
       "      <th>4</th>\n",
       "      <td>26</td>\n",
       "      <td>Pocos</td>\n",
       "      <td>NO</td>\n",
       "      <td>25</td>\n",
       "      <td>55</td>\n",
       "      <td>1</td>\n",
       "      <td>Hombre</td>\n",
       "      <td>1.0</td>\n",
       "      <td>3</td>\n",
       "      <td>Soltero</td>\n",
       "      <td>2293</td>\n",
       "      <td>No</td>\n",
       "      <td>80</td>\n",
       "      <td>0</td>\n",
       "      <td>1</td>\n",
       "      <td>1</td>\n",
       "      <td>0.0</td>\n",
       "      <td>1</td>\n",
       "    </tr>\n",
       "  </tbody>\n",
       "</table>\n",
       "</div>"
      ],
      "text/plain": [
       "   Edad ViajesNegocio PermaneceEnEmpresa  Distancia_casa  ID_empleado  \\\n",
       "0    29         Pocos                 NO               5          471   \n",
       "1    30    Frecuentes                 NO               8         1747   \n",
       "2    58         Pocos                 NO               2          825   \n",
       "3    33         Pocos                 NO               2          328   \n",
       "4    26         Pocos                 NO              25           55   \n",
       "\n",
       "   Satisfacción_ambiente  Genero  Compromiso  Satisfaccion_trabajo  \\\n",
       "0                      3  Hombre         1.0                     3   \n",
       "1                      3   Mujer         2.0                     4   \n",
       "2                      4  Hombre         3.0                     2   \n",
       "3                      1   Mujer         3.0                     1   \n",
       "4                      1  Hombre         1.0                     3   \n",
       "\n",
       "  Estado_civil  Ingreso_mensual SobreTiempo  Horas_Produccion  Bonos  \\\n",
       "0      Soltero             2140          Si                80      0   \n",
       "1   Divorciado             2180          No                80      1   \n",
       "2      Soltero            19246          Si                80      0   \n",
       "3       Casado             2707          No                80      0   \n",
       "4      Soltero             2293          No                80      0   \n",
       "\n",
       "   Años_trabajando  Años_Compañia  Años_Rol_Actual  Años_Actual_Jefe  \n",
       "0                7              6              1.0                 0  \n",
       "1                6              4              2.0                 2  \n",
       "2               40             31             15.0                 8  \n",
       "3               13              9              7.0                 7  \n",
       "4                1              1              0.0                 1  "
      ]
     },
     "execution_count": 6,
     "metadata": {},
     "output_type": "execute_result"
    }
   ],
   "source": [
    "df.head()"
   ]
  },
  {
   "cell_type": "code",
   "execution_count": 7,
   "id": "fcfd9a35",
   "metadata": {},
   "outputs": [
    {
     "data": {
      "text/plain": [
       "Edad                       int64\n",
       "ViajesNegocio             object\n",
       "PermaneceEnEmpresa        object\n",
       "Distancia_casa             int64\n",
       "ID_empleado                int64\n",
       "Satisfacción_ambiente      int64\n",
       "Genero                    object\n",
       "Compromiso               float64\n",
       "Satisfaccion_trabajo       int64\n",
       "Estado_civil              object\n",
       "Ingreso_mensual            int64\n",
       "SobreTiempo               object\n",
       "Horas_Produccion           int64\n",
       "Bonos                      int64\n",
       "Años_trabajando            int64\n",
       "Años_Compañia              int64\n",
       "Años_Rol_Actual          float64\n",
       "Años_Actual_Jefe           int64\n",
       "dtype: object"
      ]
     },
     "execution_count": 7,
     "metadata": {},
     "output_type": "execute_result"
    }
   ],
   "source": [
    "df.dtypes"
   ]
  },
  {
   "cell_type": "code",
   "execution_count": 8,
   "id": "6d0e479f",
   "metadata": {},
   "outputs": [
    {
     "data": {
      "text/html": [
       "<div>\n",
       "<style scoped>\n",
       "    .dataframe tbody tr th:only-of-type {\n",
       "        vertical-align: middle;\n",
       "    }\n",
       "\n",
       "    .dataframe tbody tr th {\n",
       "        vertical-align: top;\n",
       "    }\n",
       "\n",
       "    .dataframe thead th {\n",
       "        text-align: right;\n",
       "    }\n",
       "</style>\n",
       "<table border=\"1\" class=\"dataframe\">\n",
       "  <thead>\n",
       "    <tr style=\"text-align: right;\">\n",
       "      <th></th>\n",
       "      <th>Edad</th>\n",
       "      <th>Distancia_casa</th>\n",
       "      <th>ID_empleado</th>\n",
       "      <th>Satisfacción_ambiente</th>\n",
       "      <th>Compromiso</th>\n",
       "      <th>Satisfaccion_trabajo</th>\n",
       "      <th>Ingreso_mensual</th>\n",
       "      <th>Horas_Produccion</th>\n",
       "      <th>Bonos</th>\n",
       "      <th>Años_trabajando</th>\n",
       "      <th>Años_Compañia</th>\n",
       "      <th>Años_Rol_Actual</th>\n",
       "      <th>Años_Actual_Jefe</th>\n",
       "    </tr>\n",
       "  </thead>\n",
       "  <tbody>\n",
       "    <tr>\n",
       "      <th>count</th>\n",
       "      <td>781.000000</td>\n",
       "      <td>781.000000</td>\n",
       "      <td>781.000000</td>\n",
       "      <td>781.000000</td>\n",
       "      <td>772.000000</td>\n",
       "      <td>781.000000</td>\n",
       "      <td>781.000000</td>\n",
       "      <td>781.0</td>\n",
       "      <td>781.000000</td>\n",
       "      <td>781.000000</td>\n",
       "      <td>781.000000</td>\n",
       "      <td>774.000000</td>\n",
       "      <td>781.000000</td>\n",
       "    </tr>\n",
       "    <tr>\n",
       "      <th>mean</th>\n",
       "      <td>35.915493</td>\n",
       "      <td>9.560819</td>\n",
       "      <td>1003.172855</td>\n",
       "      <td>2.624840</td>\n",
       "      <td>2.652850</td>\n",
       "      <td>2.661972</td>\n",
       "      <td>5943.180538</td>\n",
       "      <td>80.0</td>\n",
       "      <td>0.713188</td>\n",
       "      <td>10.216389</td>\n",
       "      <td>6.773367</td>\n",
       "      <td>3.819121</td>\n",
       "      <td>3.711908</td>\n",
       "    </tr>\n",
       "    <tr>\n",
       "      <th>std</th>\n",
       "      <td>9.356228</td>\n",
       "      <td>7.985272</td>\n",
       "      <td>572.760376</td>\n",
       "      <td>1.104233</td>\n",
       "      <td>0.728308</td>\n",
       "      <td>1.082945</td>\n",
       "      <td>4460.332143</td>\n",
       "      <td>0.0</td>\n",
       "      <td>0.853165</td>\n",
       "      <td>7.584771</td>\n",
       "      <td>8.162209</td>\n",
       "      <td>3.524939</td>\n",
       "      <td>3.476695</td>\n",
       "    </tr>\n",
       "    <tr>\n",
       "      <th>min</th>\n",
       "      <td>18.000000</td>\n",
       "      <td>1.000000</td>\n",
       "      <td>1.000000</td>\n",
       "      <td>1.000000</td>\n",
       "      <td>1.000000</td>\n",
       "      <td>1.000000</td>\n",
       "      <td>1009.000000</td>\n",
       "      <td>80.0</td>\n",
       "      <td>0.000000</td>\n",
       "      <td>0.000000</td>\n",
       "      <td>0.000000</td>\n",
       "      <td>0.000000</td>\n",
       "      <td>0.000000</td>\n",
       "    </tr>\n",
       "    <tr>\n",
       "      <th>25%</th>\n",
       "      <td>29.000000</td>\n",
       "      <td>3.000000</td>\n",
       "      <td>518.000000</td>\n",
       "      <td>2.000000</td>\n",
       "      <td>2.000000</td>\n",
       "      <td>2.000000</td>\n",
       "      <td>2622.000000</td>\n",
       "      <td>80.0</td>\n",
       "      <td>0.000000</td>\n",
       "      <td>5.000000</td>\n",
       "      <td>2.000000</td>\n",
       "      <td>2.000000</td>\n",
       "      <td>1.000000</td>\n",
       "    </tr>\n",
       "    <tr>\n",
       "      <th>50%</th>\n",
       "      <td>34.000000</td>\n",
       "      <td>8.000000</td>\n",
       "      <td>1011.000000</td>\n",
       "      <td>3.000000</td>\n",
       "      <td>3.000000</td>\n",
       "      <td>3.000000</td>\n",
       "      <td>4487.000000</td>\n",
       "      <td>80.0</td>\n",
       "      <td>1.000000</td>\n",
       "      <td>9.000000</td>\n",
       "      <td>5.000000</td>\n",
       "      <td>2.000000</td>\n",
       "      <td>2.000000</td>\n",
       "    </tr>\n",
       "    <tr>\n",
       "      <th>75%</th>\n",
       "      <td>42.000000</td>\n",
       "      <td>15.000000</td>\n",
       "      <td>1482.000000</td>\n",
       "      <td>4.000000</td>\n",
       "      <td>3.000000</td>\n",
       "      <td>4.000000</td>\n",
       "      <td>7446.000000</td>\n",
       "      <td>80.0</td>\n",
       "      <td>1.000000</td>\n",
       "      <td>14.000000</td>\n",
       "      <td>9.000000</td>\n",
       "      <td>7.000000</td>\n",
       "      <td>7.000000</td>\n",
       "    </tr>\n",
       "    <tr>\n",
       "      <th>max</th>\n",
       "      <td>60.000000</td>\n",
       "      <td>29.000000</td>\n",
       "      <td>2055.000000</td>\n",
       "      <td>5.000000</td>\n",
       "      <td>4.000000</td>\n",
       "      <td>4.000000</td>\n",
       "      <td>19973.000000</td>\n",
       "      <td>80.0</td>\n",
       "      <td>3.000000</td>\n",
       "      <td>40.000000</td>\n",
       "      <td>100.000000</td>\n",
       "      <td>18.000000</td>\n",
       "      <td>17.000000</td>\n",
       "    </tr>\n",
       "  </tbody>\n",
       "</table>\n",
       "</div>"
      ],
      "text/plain": [
       "             Edad  Distancia_casa  ID_empleado  Satisfacción_ambiente  \\\n",
       "count  781.000000      781.000000   781.000000             781.000000   \n",
       "mean    35.915493        9.560819  1003.172855               2.624840   \n",
       "std      9.356228        7.985272   572.760376               1.104233   \n",
       "min     18.000000        1.000000     1.000000               1.000000   \n",
       "25%     29.000000        3.000000   518.000000               2.000000   \n",
       "50%     34.000000        8.000000  1011.000000               3.000000   \n",
       "75%     42.000000       15.000000  1482.000000               4.000000   \n",
       "max     60.000000       29.000000  2055.000000               5.000000   \n",
       "\n",
       "       Compromiso  Satisfaccion_trabajo  Ingreso_mensual  Horas_Produccion  \\\n",
       "count  772.000000            781.000000       781.000000             781.0   \n",
       "mean     2.652850              2.661972      5943.180538              80.0   \n",
       "std      0.728308              1.082945      4460.332143               0.0   \n",
       "min      1.000000              1.000000      1009.000000              80.0   \n",
       "25%      2.000000              2.000000      2622.000000              80.0   \n",
       "50%      3.000000              3.000000      4487.000000              80.0   \n",
       "75%      3.000000              4.000000      7446.000000              80.0   \n",
       "max      4.000000              4.000000     19973.000000              80.0   \n",
       "\n",
       "            Bonos  Años_trabajando  Años_Compañia  Años_Rol_Actual  \\\n",
       "count  781.000000       781.000000     781.000000       774.000000   \n",
       "mean     0.713188        10.216389       6.773367         3.819121   \n",
       "std      0.853165         7.584771       8.162209         3.524939   \n",
       "min      0.000000         0.000000       0.000000         0.000000   \n",
       "25%      0.000000         5.000000       2.000000         2.000000   \n",
       "50%      1.000000         9.000000       5.000000         2.000000   \n",
       "75%      1.000000        14.000000       9.000000         7.000000   \n",
       "max      3.000000        40.000000     100.000000        18.000000   \n",
       "\n",
       "       Años_Actual_Jefe  \n",
       "count        781.000000  \n",
       "mean           3.711908  \n",
       "std            3.476695  \n",
       "min            0.000000  \n",
       "25%            1.000000  \n",
       "50%            2.000000  \n",
       "75%            7.000000  \n",
       "max           17.000000  "
      ]
     },
     "execution_count": 8,
     "metadata": {},
     "output_type": "execute_result"
    }
   ],
   "source": [
    "df.describe()"
   ]
  },
  {
   "cell_type": "markdown",
   "id": "efb62b2e",
   "metadata": {},
   "source": [
    "Podemos ver que la mayoría se toman como valores numéricos enteros a excepción de Compromiso y Años rol actual, que se toman como flotantes.\n",
    "Entonces veamos estas variables en profundidad."
   ]
  },
  {
   "cell_type": "code",
   "execution_count": 9,
   "id": "870fa247",
   "metadata": {},
   "outputs": [
    {
     "data": {
      "text/plain": [
       "3.0    438\n",
       "2.0    217\n",
       "4.0     61\n",
       "1.0     56\n",
       "Name: Compromiso, dtype: int64"
      ]
     },
     "execution_count": 9,
     "metadata": {},
     "output_type": "execute_result"
    }
   ],
   "source": [
    "pd.value_counts(df['Compromiso'])"
   ]
  },
  {
   "cell_type": "code",
   "execution_count": 10,
   "id": "125465f0",
   "metadata": {},
   "outputs": [
    {
     "data": {
      "text/plain": [
       "2.0     215\n",
       "0.0     138\n",
       "7.0      99\n",
       "3.0      73\n",
       "4.0      52\n",
       "1.0      49\n",
       "8.0      42\n",
       "9.0      28\n",
       "6.0      15\n",
       "5.0      14\n",
       "11.0     12\n",
       "10.0     11\n",
       "15.0      8\n",
       "13.0      6\n",
       "12.0      5\n",
       "14.0      3\n",
       "16.0      2\n",
       "17.0      1\n",
       "18.0      1\n",
       "Name: Años_Rol_Actual, dtype: int64"
      ]
     },
     "execution_count": 10,
     "metadata": {},
     "output_type": "execute_result"
    }
   ],
   "source": [
    "pd.value_counts(df['Años_Rol_Actual'])"
   ]
  },
  {
   "cell_type": "code",
   "execution_count": 11,
   "id": "e4acd709",
   "metadata": {},
   "outputs": [
    {
     "data": {
      "text/plain": [
       "Edad                     0\n",
       "ViajesNegocio            0\n",
       "PermaneceEnEmpresa       0\n",
       "Distancia_casa           0\n",
       "ID_empleado              0\n",
       "Satisfacción_ambiente    0\n",
       "Genero                   0\n",
       "Compromiso               9\n",
       "Satisfaccion_trabajo     0\n",
       "Estado_civil             0\n",
       "Ingreso_mensual          0\n",
       "SobreTiempo              0\n",
       "Horas_Produccion         0\n",
       "Bonos                    0\n",
       "Años_trabajando          0\n",
       "Años_Compañia            0\n",
       "Años_Rol_Actual          7\n",
       "Años_Actual_Jefe         0\n",
       "dtype: int64"
      ]
     },
     "execution_count": 11,
     "metadata": {},
     "output_type": "execute_result"
    }
   ],
   "source": [
    "df.isnull().sum()"
   ]
  },
  {
   "cell_type": "markdown",
   "id": "d52e7238",
   "metadata": {},
   "source": [
    "Procedemos a eliminar los pocos valores nulos que hay y los posibles repetidos"
   ]
  },
  {
   "cell_type": "code",
   "execution_count": 12,
   "id": "1026b1ef",
   "metadata": {},
   "outputs": [],
   "source": [
    "# Eliminación registros con ausencias\n",
    "df = df.dropna()\n",
    "# Eliminación de registros duplicados.\n",
    "df = df.drop_duplicates()"
   ]
  },
  {
   "cell_type": "markdown",
   "id": "0f7813e9",
   "metadata": {},
   "source": [
    "Procedemos a eliminar los ids"
   ]
  },
  {
   "cell_type": "code",
   "execution_count": 13,
   "id": "6ee46dce",
   "metadata": {},
   "outputs": [],
   "source": [
    "df = df.drop(['ID_empleado'], axis=1)"
   ]
  },
  {
   "cell_type": "code",
   "execution_count": 14,
   "id": "5476fd6c",
   "metadata": {},
   "outputs": [
    {
     "data": {
      "text/html": [
       "<div>\n",
       "<style scoped>\n",
       "    .dataframe tbody tr th:only-of-type {\n",
       "        vertical-align: middle;\n",
       "    }\n",
       "\n",
       "    .dataframe tbody tr th {\n",
       "        vertical-align: top;\n",
       "    }\n",
       "\n",
       "    .dataframe thead th {\n",
       "        text-align: right;\n",
       "    }\n",
       "</style>\n",
       "<table border=\"1\" class=\"dataframe\">\n",
       "  <thead>\n",
       "    <tr style=\"text-align: right;\">\n",
       "      <th></th>\n",
       "      <th>Edad</th>\n",
       "      <th>ViajesNegocio</th>\n",
       "      <th>PermaneceEnEmpresa</th>\n",
       "      <th>Distancia_casa</th>\n",
       "      <th>Satisfacción_ambiente</th>\n",
       "      <th>Genero</th>\n",
       "      <th>Compromiso</th>\n",
       "      <th>Satisfaccion_trabajo</th>\n",
       "      <th>Estado_civil</th>\n",
       "      <th>Ingreso_mensual</th>\n",
       "      <th>SobreTiempo</th>\n",
       "      <th>Horas_Produccion</th>\n",
       "      <th>Bonos</th>\n",
       "      <th>Años_trabajando</th>\n",
       "      <th>Años_Compañia</th>\n",
       "      <th>Años_Rol_Actual</th>\n",
       "      <th>Años_Actual_Jefe</th>\n",
       "    </tr>\n",
       "  </thead>\n",
       "  <tbody>\n",
       "    <tr>\n",
       "      <th>0</th>\n",
       "      <td>29</td>\n",
       "      <td>Pocos</td>\n",
       "      <td>NO</td>\n",
       "      <td>5</td>\n",
       "      <td>3</td>\n",
       "      <td>Hombre</td>\n",
       "      <td>1.0</td>\n",
       "      <td>3</td>\n",
       "      <td>Soltero</td>\n",
       "      <td>2140</td>\n",
       "      <td>Si</td>\n",
       "      <td>80</td>\n",
       "      <td>0</td>\n",
       "      <td>7</td>\n",
       "      <td>6</td>\n",
       "      <td>1.0</td>\n",
       "      <td>0</td>\n",
       "    </tr>\n",
       "    <tr>\n",
       "      <th>1</th>\n",
       "      <td>30</td>\n",
       "      <td>Frecuentes</td>\n",
       "      <td>NO</td>\n",
       "      <td>8</td>\n",
       "      <td>3</td>\n",
       "      <td>Mujer</td>\n",
       "      <td>2.0</td>\n",
       "      <td>4</td>\n",
       "      <td>Divorciado</td>\n",
       "      <td>2180</td>\n",
       "      <td>No</td>\n",
       "      <td>80</td>\n",
       "      <td>1</td>\n",
       "      <td>6</td>\n",
       "      <td>4</td>\n",
       "      <td>2.0</td>\n",
       "      <td>2</td>\n",
       "    </tr>\n",
       "    <tr>\n",
       "      <th>2</th>\n",
       "      <td>58</td>\n",
       "      <td>Pocos</td>\n",
       "      <td>NO</td>\n",
       "      <td>2</td>\n",
       "      <td>4</td>\n",
       "      <td>Hombre</td>\n",
       "      <td>3.0</td>\n",
       "      <td>2</td>\n",
       "      <td>Soltero</td>\n",
       "      <td>19246</td>\n",
       "      <td>Si</td>\n",
       "      <td>80</td>\n",
       "      <td>0</td>\n",
       "      <td>40</td>\n",
       "      <td>31</td>\n",
       "      <td>15.0</td>\n",
       "      <td>8</td>\n",
       "    </tr>\n",
       "    <tr>\n",
       "      <th>3</th>\n",
       "      <td>33</td>\n",
       "      <td>Pocos</td>\n",
       "      <td>NO</td>\n",
       "      <td>2</td>\n",
       "      <td>1</td>\n",
       "      <td>Mujer</td>\n",
       "      <td>3.0</td>\n",
       "      <td>1</td>\n",
       "      <td>Casado</td>\n",
       "      <td>2707</td>\n",
       "      <td>No</td>\n",
       "      <td>80</td>\n",
       "      <td>0</td>\n",
       "      <td>13</td>\n",
       "      <td>9</td>\n",
       "      <td>7.0</td>\n",
       "      <td>7</td>\n",
       "    </tr>\n",
       "    <tr>\n",
       "      <th>4</th>\n",
       "      <td>26</td>\n",
       "      <td>Pocos</td>\n",
       "      <td>NO</td>\n",
       "      <td>25</td>\n",
       "      <td>1</td>\n",
       "      <td>Hombre</td>\n",
       "      <td>1.0</td>\n",
       "      <td>3</td>\n",
       "      <td>Soltero</td>\n",
       "      <td>2293</td>\n",
       "      <td>No</td>\n",
       "      <td>80</td>\n",
       "      <td>0</td>\n",
       "      <td>1</td>\n",
       "      <td>1</td>\n",
       "      <td>0.0</td>\n",
       "      <td>1</td>\n",
       "    </tr>\n",
       "  </tbody>\n",
       "</table>\n",
       "</div>"
      ],
      "text/plain": [
       "   Edad ViajesNegocio PermaneceEnEmpresa  Distancia_casa  \\\n",
       "0    29         Pocos                 NO               5   \n",
       "1    30    Frecuentes                 NO               8   \n",
       "2    58         Pocos                 NO               2   \n",
       "3    33         Pocos                 NO               2   \n",
       "4    26         Pocos                 NO              25   \n",
       "\n",
       "   Satisfacción_ambiente  Genero  Compromiso  Satisfaccion_trabajo  \\\n",
       "0                      3  Hombre         1.0                     3   \n",
       "1                      3   Mujer         2.0                     4   \n",
       "2                      4  Hombre         3.0                     2   \n",
       "3                      1   Mujer         3.0                     1   \n",
       "4                      1  Hombre         1.0                     3   \n",
       "\n",
       "  Estado_civil  Ingreso_mensual SobreTiempo  Horas_Produccion  Bonos  \\\n",
       "0      Soltero             2140          Si                80      0   \n",
       "1   Divorciado             2180          No                80      1   \n",
       "2      Soltero            19246          Si                80      0   \n",
       "3       Casado             2707          No                80      0   \n",
       "4      Soltero             2293          No                80      0   \n",
       "\n",
       "   Años_trabajando  Años_Compañia  Años_Rol_Actual  Años_Actual_Jefe  \n",
       "0                7              6              1.0                 0  \n",
       "1                6              4              2.0                 2  \n",
       "2               40             31             15.0                 8  \n",
       "3               13              9              7.0                 7  \n",
       "4                1              1              0.0                 1  "
      ]
     },
     "execution_count": 14,
     "metadata": {},
     "output_type": "execute_result"
    }
   ],
   "source": [
    "df.head()"
   ]
  },
  {
   "cell_type": "markdown",
   "id": "8282a523",
   "metadata": {},
   "source": [
    "Revisamos cada variable en busca de anomalías"
   ]
  },
  {
   "cell_type": "code",
   "execution_count": 15,
   "id": "aa5d3469",
   "metadata": {},
   "outputs": [
    {
     "data": {
      "text/plain": [
       "Pocos         553\n",
       "Frecuentes    149\n",
       "Nunca          56\n",
       "Ninguno         7\n",
       "Name: ViajesNegocio, dtype: int64"
      ]
     },
     "execution_count": 15,
     "metadata": {},
     "output_type": "execute_result"
    }
   ],
   "source": [
    "pd.value_counts(df['ViajesNegocio'])"
   ]
  },
  {
   "cell_type": "markdown",
   "id": "099830fa",
   "metadata": {},
   "source": [
    "Ninguno no está en el diccionario, pero se interpretará como si fuera nunca"
   ]
  },
  {
   "cell_type": "code",
   "execution_count": 16,
   "id": "c3f8c799",
   "metadata": {},
   "outputs": [
    {
     "data": {
      "text/html": [
       "<div>\n",
       "<style scoped>\n",
       "    .dataframe tbody tr th:only-of-type {\n",
       "        vertical-align: middle;\n",
       "    }\n",
       "\n",
       "    .dataframe tbody tr th {\n",
       "        vertical-align: top;\n",
       "    }\n",
       "\n",
       "    .dataframe thead th {\n",
       "        text-align: right;\n",
       "    }\n",
       "</style>\n",
       "<table border=\"1\" class=\"dataframe\">\n",
       "  <thead>\n",
       "    <tr style=\"text-align: right;\">\n",
       "      <th></th>\n",
       "      <th>ViajesNegocio</th>\n",
       "    </tr>\n",
       "  </thead>\n",
       "  <tbody>\n",
       "    <tr>\n",
       "      <th>Pocos</th>\n",
       "      <td>553</td>\n",
       "    </tr>\n",
       "    <tr>\n",
       "      <th>Frecuentes</th>\n",
       "      <td>149</td>\n",
       "    </tr>\n",
       "    <tr>\n",
       "      <th>Nunca</th>\n",
       "      <td>63</td>\n",
       "    </tr>\n",
       "  </tbody>\n",
       "</table>\n",
       "</div>"
      ],
      "text/plain": [
       "            ViajesNegocio\n",
       "Pocos                 553\n",
       "Frecuentes            149\n",
       "Nunca                  63"
      ]
     },
     "execution_count": 16,
     "metadata": {},
     "output_type": "execute_result"
    }
   ],
   "source": [
    "df['ViajesNegocio'].replace(\"Ninguno\", \"Nunca\", inplace = True)\n",
    "df['ViajesNegocio'].value_counts().to_frame()"
   ]
  },
  {
   "cell_type": "markdown",
   "id": "cc1a6ea5",
   "metadata": {},
   "source": [
    "Ahora quedó acorde con el diccionario"
   ]
  },
  {
   "cell_type": "code",
   "execution_count": 17,
   "id": "1cc68f0f",
   "metadata": {},
   "outputs": [
    {
     "data": {
      "text/plain": [
       "29    41\n",
       "35    41\n",
       "32    40\n",
       "33    39\n",
       "31    37\n",
       "34    36\n",
       "30    33\n",
       "36    28\n",
       "28    26\n",
       "39    25\n",
       "40    24\n",
       "26    21\n",
       "37    21\n",
       "44    20\n",
       "38    20\n",
       "25    20\n",
       "46    19\n",
       "27    19\n",
       "42    19\n",
       "45    17\n",
       "24    16\n",
       "41    16\n",
       "49    15\n",
       "43    14\n",
       "23    13\n",
       "50    13\n",
       "53    11\n",
       "55    11\n",
       "20    10\n",
       "47    10\n",
       "19    10\n",
       "48    10\n",
       "21     9\n",
       "22     9\n",
       "51     9\n",
       "54     9\n",
       "56     8\n",
       "52     7\n",
       "18     6\n",
       "58     6\n",
       "59     3\n",
       "57     2\n",
       "60     2\n",
       "Name: Edad, dtype: int64"
      ]
     },
     "execution_count": 17,
     "metadata": {},
     "output_type": "execute_result"
    }
   ],
   "source": [
    "pd.value_counts(df['Edad'])"
   ]
  },
  {
   "cell_type": "markdown",
   "id": "18daadd1",
   "metadata": {},
   "source": [
    "Ninguna anomalía en edad."
   ]
  },
  {
   "cell_type": "code",
   "execution_count": 18,
   "id": "6e1df78e",
   "metadata": {},
   "outputs": [
    {
     "data": {
      "text/plain": [
       "SI    412\n",
       "NO    353\n",
       "Name: PermaneceEnEmpresa, dtype: int64"
      ]
     },
     "execution_count": 18,
     "metadata": {},
     "output_type": "execute_result"
    }
   ],
   "source": [
    "pd.value_counts(df['PermaneceEnEmpresa'])"
   ]
  },
  {
   "cell_type": "markdown",
   "id": "787d1ce3",
   "metadata": {},
   "source": [
    "Ninguna anomalía en PermaneceEnEmpresa."
   ]
  },
  {
   "cell_type": "code",
   "execution_count": 19,
   "id": "a835f10d",
   "metadata": {},
   "outputs": [
    {
     "data": {
      "text/plain": [
       "1     95\n",
       "2     91\n",
       "9     48\n",
       "3     46\n",
       "8     45\n",
       "7     42\n",
       "4     41\n",
       "10    40\n",
       "5     32\n",
       "6     30\n",
       "24    18\n",
       "25    17\n",
       "13    17\n",
       "15    16\n",
       "16    16\n",
       "18    15\n",
       "11    15\n",
       "22    14\n",
       "23    14\n",
       "21    14\n",
       "20    13\n",
       "12    13\n",
       "19    13\n",
       "29    12\n",
       "14    12\n",
       "17    11\n",
       "26    11\n",
       "28     7\n",
       "27     7\n",
       "Name: Distancia_casa, dtype: int64"
      ]
     },
     "execution_count": 19,
     "metadata": {},
     "output_type": "execute_result"
    }
   ],
   "source": [
    "pd.value_counts(df['Distancia_casa'])"
   ]
  },
  {
   "cell_type": "markdown",
   "id": "56f002d6",
   "metadata": {},
   "source": [
    "Ninguna anomalía en DistanciaCasa."
   ]
  },
  {
   "cell_type": "code",
   "execution_count": 20,
   "id": "ca85cd33",
   "metadata": {},
   "outputs": [
    {
     "data": {
      "text/plain": [
       "3    245\n",
       "4    194\n",
       "1    168\n",
       "2    154\n",
       "5      4\n",
       "Name: Satisfacción_ambiente, dtype: int64"
      ]
     },
     "execution_count": 20,
     "metadata": {},
     "output_type": "execute_result"
    }
   ],
   "source": [
    "pd.value_counts(df['Satisfacción_ambiente'])"
   ]
  },
  {
   "cell_type": "markdown",
   "id": "6210b22a",
   "metadata": {},
   "source": [
    "Hay un valor fuera de rango (5), entonces se interpretará como que es 4 debido a que es el valor más cercano."
   ]
  },
  {
   "cell_type": "code",
   "execution_count": 21,
   "id": "0e68810b",
   "metadata": {},
   "outputs": [
    {
     "data": {
      "text/html": [
       "<div>\n",
       "<style scoped>\n",
       "    .dataframe tbody tr th:only-of-type {\n",
       "        vertical-align: middle;\n",
       "    }\n",
       "\n",
       "    .dataframe tbody tr th {\n",
       "        vertical-align: top;\n",
       "    }\n",
       "\n",
       "    .dataframe thead th {\n",
       "        text-align: right;\n",
       "    }\n",
       "</style>\n",
       "<table border=\"1\" class=\"dataframe\">\n",
       "  <thead>\n",
       "    <tr style=\"text-align: right;\">\n",
       "      <th></th>\n",
       "      <th>Satisfacción_ambiente</th>\n",
       "    </tr>\n",
       "  </thead>\n",
       "  <tbody>\n",
       "    <tr>\n",
       "      <th>3</th>\n",
       "      <td>245</td>\n",
       "    </tr>\n",
       "    <tr>\n",
       "      <th>4</th>\n",
       "      <td>198</td>\n",
       "    </tr>\n",
       "    <tr>\n",
       "      <th>1</th>\n",
       "      <td>168</td>\n",
       "    </tr>\n",
       "    <tr>\n",
       "      <th>2</th>\n",
       "      <td>154</td>\n",
       "    </tr>\n",
       "  </tbody>\n",
       "</table>\n",
       "</div>"
      ],
      "text/plain": [
       "   Satisfacción_ambiente\n",
       "3                    245\n",
       "4                    198\n",
       "1                    168\n",
       "2                    154"
      ]
     },
     "execution_count": 21,
     "metadata": {},
     "output_type": "execute_result"
    }
   ],
   "source": [
    "df['Satisfacción_ambiente'].replace(5, 4, inplace = True)\n",
    "df['Satisfacción_ambiente'].value_counts().to_frame()"
   ]
  },
  {
   "cell_type": "code",
   "execution_count": 22,
   "id": "5af6d5d3",
   "metadata": {},
   "outputs": [
    {
     "data": {
      "text/plain": [
       "Hombre    453\n",
       "Mujer     298\n",
       "M           7\n",
       "F           7\n",
       "Name: Genero, dtype: int64"
      ]
     },
     "execution_count": 22,
     "metadata": {},
     "output_type": "execute_result"
    }
   ],
   "source": [
    "pd.value_counts(df['Genero'])"
   ]
  },
  {
   "cell_type": "markdown",
   "id": "e4984f69",
   "metadata": {},
   "source": [
    "Se entiende que M se refiere a Hombre y F a Mujer, entonces se realiza el reemplazo."
   ]
  },
  {
   "cell_type": "code",
   "execution_count": 23,
   "id": "e2978797",
   "metadata": {},
   "outputs": [
    {
     "data": {
      "text/html": [
       "<div>\n",
       "<style scoped>\n",
       "    .dataframe tbody tr th:only-of-type {\n",
       "        vertical-align: middle;\n",
       "    }\n",
       "\n",
       "    .dataframe tbody tr th {\n",
       "        vertical-align: top;\n",
       "    }\n",
       "\n",
       "    .dataframe thead th {\n",
       "        text-align: right;\n",
       "    }\n",
       "</style>\n",
       "<table border=\"1\" class=\"dataframe\">\n",
       "  <thead>\n",
       "    <tr style=\"text-align: right;\">\n",
       "      <th></th>\n",
       "      <th>Genero</th>\n",
       "    </tr>\n",
       "  </thead>\n",
       "  <tbody>\n",
       "    <tr>\n",
       "      <th>Hombre</th>\n",
       "      <td>460</td>\n",
       "    </tr>\n",
       "    <tr>\n",
       "      <th>Mujer</th>\n",
       "      <td>305</td>\n",
       "    </tr>\n",
       "  </tbody>\n",
       "</table>\n",
       "</div>"
      ],
      "text/plain": [
       "        Genero\n",
       "Hombre     460\n",
       "Mujer      305"
      ]
     },
     "execution_count": 23,
     "metadata": {},
     "output_type": "execute_result"
    }
   ],
   "source": [
    "df['Genero'].replace(\"M\", \"Hombre\", inplace = True)\n",
    "df['Genero'].replace(\"F\", \"Mujer\", inplace = True)\n",
    "df['Genero'].value_counts().to_frame()"
   ]
  },
  {
   "cell_type": "code",
   "execution_count": 24,
   "id": "7dc43e7c",
   "metadata": {},
   "outputs": [
    {
     "data": {
      "text/plain": [
       "3    248\n",
       "4    205\n",
       "2    158\n",
       "1    154\n",
       "Name: Satisfaccion_trabajo, dtype: int64"
      ]
     },
     "execution_count": 24,
     "metadata": {},
     "output_type": "execute_result"
    }
   ],
   "source": [
    "pd.value_counts(df['Satisfaccion_trabajo'])"
   ]
  },
  {
   "cell_type": "markdown",
   "id": "98e91e11",
   "metadata": {},
   "source": [
    "Satisfaccion_trabajo está correcto."
   ]
  },
  {
   "cell_type": "code",
   "execution_count": 25,
   "id": "aa796b31",
   "metadata": {},
   "outputs": [
    {
     "data": {
      "text/plain": [
       "2610    3\n",
       "2293    3\n",
       "2042    3\n",
       "2362    3\n",
       "2404    3\n",
       "       ..\n",
       "2067    1\n",
       "5801    1\n",
       "2741    1\n",
       "2058    1\n",
       "7140    1\n",
       "Name: Ingreso_mensual, Length: 716, dtype: int64"
      ]
     },
     "execution_count": 25,
     "metadata": {},
     "output_type": "execute_result"
    }
   ],
   "source": [
    "pd.value_counts(df['Ingreso_mensual'])"
   ]
  },
  {
   "cell_type": "markdown",
   "id": "f375a618",
   "metadata": {},
   "source": [
    "Se entiende que Ingreso_mensual está lleno de valores numéricos, lo cual es correcto"
   ]
  },
  {
   "cell_type": "code",
   "execution_count": 26,
   "id": "7f3ffcb6",
   "metadata": {},
   "outputs": [
    {
     "data": {
      "text/plain": [
       "Soltero       316\n",
       "Casado        315\n",
       "Divorciado    134\n",
       "Name: Estado_civil, dtype: int64"
      ]
     },
     "execution_count": 26,
     "metadata": {},
     "output_type": "execute_result"
    }
   ],
   "source": [
    "pd.value_counts(df['Estado_civil'])"
   ]
  },
  {
   "cell_type": "markdown",
   "id": "797ad004",
   "metadata": {},
   "source": [
    "Estado_civil está correcto."
   ]
  },
  {
   "cell_type": "code",
   "execution_count": 27,
   "id": "03c9bed8",
   "metadata": {},
   "outputs": [
    {
     "data": {
      "text/plain": [
       "No    451\n",
       "Si    314\n",
       "Name: SobreTiempo, dtype: int64"
      ]
     },
     "execution_count": 27,
     "metadata": {},
     "output_type": "execute_result"
    }
   ],
   "source": [
    "pd.value_counts(df['SobreTiempo'])"
   ]
  },
  {
   "cell_type": "markdown",
   "id": "d6c93952",
   "metadata": {},
   "source": [
    "SobreTiempo está correcto."
   ]
  },
  {
   "cell_type": "code",
   "execution_count": 28,
   "id": "12fd0b44",
   "metadata": {},
   "outputs": [
    {
     "data": {
      "text/plain": [
       "80    765\n",
       "Name: Horas_Produccion, dtype: int64"
      ]
     },
     "execution_count": 28,
     "metadata": {},
     "output_type": "execute_result"
    }
   ],
   "source": [
    "pd.value_counts(df['Horas_Produccion'])"
   ]
  },
  {
   "cell_type": "markdown",
   "id": "2cad0e40",
   "metadata": {},
   "source": [
    "Puesto que en Horas_Produccion solo hay un valor, se procede a eliminarlo."
   ]
  },
  {
   "cell_type": "code",
   "execution_count": 29,
   "id": "691420ca",
   "metadata": {},
   "outputs": [],
   "source": [
    "df = df.drop(['Horas_Produccion'], axis=1)"
   ]
  },
  {
   "cell_type": "code",
   "execution_count": 30,
   "id": "5311a8eb",
   "metadata": {},
   "outputs": [
    {
     "data": {
      "text/plain": [
       "0    379\n",
       "1    273\n",
       "2     71\n",
       "3     42\n",
       "Name: Bonos, dtype: int64"
      ]
     },
     "execution_count": 30,
     "metadata": {},
     "output_type": "execute_result"
    }
   ],
   "source": [
    "pd.value_counts(df['Bonos'])"
   ]
  },
  {
   "cell_type": "markdown",
   "id": "88b78335",
   "metadata": {},
   "source": [
    "Bonos está correcto."
   ]
  },
  {
   "cell_type": "code",
   "execution_count": 31,
   "id": "d00c4ea7",
   "metadata": {},
   "outputs": [
    {
     "data": {
      "text/plain": [
       "10    87\n",
       "1     65\n",
       "6     54\n",
       "8     53\n",
       "9     51\n",
       "7     50\n",
       "5     45\n",
       "4     38\n",
       "2     30\n",
       "3     30\n",
       "11    22\n",
       "14    19\n",
       "16    19\n",
       "13    18\n",
       "15    18\n",
       "12    18\n",
       "21    16\n",
       "18    15\n",
       "17    15\n",
       "23    13\n",
       "22    12\n",
       "19    11\n",
       "20     9\n",
       "0      8\n",
       "26     8\n",
       "27     6\n",
       "24     5\n",
       "33     4\n",
       "28     4\n",
       "30     4\n",
       "31     4\n",
       "29     3\n",
       "25     3\n",
       "40     2\n",
       "35     2\n",
       "36     2\n",
       "38     1\n",
       "34     1\n",
       "Name: Años_trabajando, dtype: int64"
      ]
     },
     "execution_count": 31,
     "metadata": {},
     "output_type": "execute_result"
    }
   ],
   "source": [
    "pd.value_counts(df['Años_trabajando'])"
   ]
  },
  {
   "cell_type": "markdown",
   "id": "e33c307a",
   "metadata": {},
   "source": [
    "Años_trabajando está correcto"
   ]
  },
  {
   "cell_type": "code",
   "execution_count": 32,
   "id": "ad1ec7d7",
   "metadata": {},
   "outputs": [
    {
     "data": {
      "text/plain": [
       "1      107\n",
       "5       87\n",
       "2       84\n",
       "3       80\n",
       "4       58\n",
       "10      56\n",
       "7       38\n",
       "8       37\n",
       "6       37\n",
       "9       36\n",
       "0       32\n",
       "15      14\n",
       "20      12\n",
       "11      11\n",
       "13      10\n",
       "14       8\n",
       "19       7\n",
       "21       6\n",
       "12       5\n",
       "16       5\n",
       "18       4\n",
       "17       4\n",
       "22       4\n",
       "23       3\n",
       "60       2\n",
       "24       2\n",
       "27       2\n",
       "33       2\n",
       "31       2\n",
       "100      2\n",
       "26       2\n",
       "29       2\n",
       "40       1\n",
       "32       1\n",
       "30       1\n",
       "25       1\n",
       "Name: Años_Compañia, dtype: int64"
      ]
     },
     "execution_count": 32,
     "metadata": {},
     "output_type": "execute_result"
    }
   ],
   "source": [
    "pd.value_counts(df['Años_Compañia'])"
   ]
  },
  {
   "cell_type": "markdown",
   "id": "ebf64bee",
   "metadata": {},
   "source": [
    "Años_Compañia está correcto."
   ]
  },
  {
   "cell_type": "code",
   "execution_count": 33,
   "id": "af891033",
   "metadata": {},
   "outputs": [
    {
     "data": {
      "text/plain": [
       "2     181\n",
       "0     166\n",
       "7      92\n",
       "3      67\n",
       "8      51\n",
       "1      51\n",
       "4      45\n",
       "9      28\n",
       "6      25\n",
       "5      20\n",
       "10     11\n",
       "13      7\n",
       "11      7\n",
       "12      6\n",
       "14      3\n",
       "15      3\n",
       "17      2\n",
       "Name: Años_Actual_Jefe, dtype: int64"
      ]
     },
     "execution_count": 33,
     "metadata": {},
     "output_type": "execute_result"
    }
   ],
   "source": [
    "pd.value_counts(df['Años_Actual_Jefe'])"
   ]
  },
  {
   "cell_type": "markdown",
   "id": "d0d2c172",
   "metadata": {},
   "source": [
    "Años_Actual_Jefe está correcto."
   ]
  },
  {
   "cell_type": "markdown",
   "id": "11cecbc6",
   "metadata": {},
   "source": [
    "Ahora procedemos a convertir las variables categóricas en numéricas."
   ]
  },
  {
   "cell_type": "code",
   "execution_count": 34,
   "id": "d8a9a6ca",
   "metadata": {},
   "outputs": [
    {
     "data": {
      "text/plain": [
       "Edad                       int64\n",
       "ViajesNegocio             object\n",
       "PermaneceEnEmpresa        object\n",
       "Distancia_casa             int64\n",
       "Satisfacción_ambiente      int64\n",
       "Genero                    object\n",
       "Compromiso               float64\n",
       "Satisfaccion_trabajo       int64\n",
       "Estado_civil              object\n",
       "Ingreso_mensual            int64\n",
       "SobreTiempo               object\n",
       "Bonos                      int64\n",
       "Años_trabajando            int64\n",
       "Años_Compañia              int64\n",
       "Años_Rol_Actual          float64\n",
       "Años_Actual_Jefe           int64\n",
       "dtype: object"
      ]
     },
     "execution_count": 34,
     "metadata": {},
     "output_type": "execute_result"
    }
   ],
   "source": [
    "df.dtypes"
   ]
  },
  {
   "cell_type": "markdown",
   "id": "99daf62e",
   "metadata": {},
   "source": [
    "Para ViajesNegocio interpretamos a Nunca como 0, Pocos como 1 y Frecuentes como 2."
   ]
  },
  {
   "cell_type": "code",
   "execution_count": 35,
   "id": "1203fcb2",
   "metadata": {},
   "outputs": [
    {
     "data": {
      "text/plain": [
       "1    553\n",
       "2    149\n",
       "0     63\n",
       "Name: ViajesNegocio, dtype: int64"
      ]
     },
     "execution_count": 35,
     "metadata": {},
     "output_type": "execute_result"
    }
   ],
   "source": [
    "atributo = 'ViajesNegocio'\n",
    "def label_categorias(row):\n",
    "    if row[atributo] == 'Nunca':\n",
    "        return 0\n",
    "    elif row[atributo] == 'Pocos':\n",
    "        return 1\n",
    "    elif row[atributo] == 'Frecuentes':\n",
    "        return 2\n",
    "    else:\n",
    "        return None\n",
    "df[atributo] = df.apply(lambda row: label_categorias(row), axis=1)\n",
    "pd.value_counts(df['ViajesNegocio'])"
   ]
  },
  {
   "cell_type": "markdown",
   "id": "32446499",
   "metadata": {},
   "source": [
    "Para PermaneceEnEmpresa interpretaremos el Sí con 1 y el No con 0"
   ]
  },
  {
   "cell_type": "code",
   "execution_count": 36,
   "id": "4a93aa0c",
   "metadata": {},
   "outputs": [
    {
     "data": {
      "text/plain": [
       "1    412\n",
       "0    353\n",
       "Name: PermaneceEnEmpresa, dtype: int64"
      ]
     },
     "execution_count": 36,
     "metadata": {},
     "output_type": "execute_result"
    }
   ],
   "source": [
    "atributo = 'PermaneceEnEmpresa'\n",
    "def label_categorias(row):\n",
    "    if row[atributo] == 'SI':\n",
    "        return 1\n",
    "    elif row[atributo] == 'NO':\n",
    "        return 0\n",
    "    else:\n",
    "        return None\n",
    "df[atributo] = df.apply(lambda row: label_categorias(row), axis=1)\n",
    "pd.value_counts(df['PermaneceEnEmpresa'])"
   ]
  },
  {
   "cell_type": "markdown",
   "id": "43f4f708",
   "metadata": {},
   "source": [
    "Para Genero identificaremos Hombre con 0 y Mujer con 1"
   ]
  },
  {
   "cell_type": "code",
   "execution_count": 37,
   "id": "9be3d4a4",
   "metadata": {},
   "outputs": [
    {
     "data": {
      "text/plain": [
       "0    460\n",
       "1    305\n",
       "Name: Genero, dtype: int64"
      ]
     },
     "execution_count": 37,
     "metadata": {},
     "output_type": "execute_result"
    }
   ],
   "source": [
    "atributo = 'Genero'\n",
    "def label_categorias(row):\n",
    "    if row[atributo] == 'Mujer':\n",
    "        return 1\n",
    "    elif row[atributo] == 'Hombre':\n",
    "        return 0\n",
    "    else:\n",
    "        return None\n",
    "df[atributo] = df.apply(lambda row: label_categorias(row), axis=1)\n",
    "pd.value_counts(df['Genero'])"
   ]
  },
  {
   "cell_type": "markdown",
   "id": "81c504d1",
   "metadata": {},
   "source": [
    "Para Estado_civil identificaremos Soltero con 0, Casado con 1 y Divorciado con 2"
   ]
  },
  {
   "cell_type": "code",
   "execution_count": 38,
   "id": "1d892b5b",
   "metadata": {},
   "outputs": [
    {
     "data": {
      "text/plain": [
       "0    316\n",
       "1    315\n",
       "2    134\n",
       "Name: Estado_civil, dtype: int64"
      ]
     },
     "execution_count": 38,
     "metadata": {},
     "output_type": "execute_result"
    }
   ],
   "source": [
    "atributo = 'Estado_civil'\n",
    "def label_categorias(row):\n",
    "    if row[atributo] == 'Soltero':\n",
    "        return 0\n",
    "    elif row[atributo] == 'Casado':\n",
    "        return 1\n",
    "    elif row[atributo] == 'Divorciado':\n",
    "        return 2\n",
    "    else:\n",
    "        return None\n",
    "df[atributo] = df.apply(lambda row: label_categorias(row), axis=1)\n",
    "pd.value_counts(df['Estado_civil'])"
   ]
  },
  {
   "cell_type": "markdown",
   "id": "ed13ab18",
   "metadata": {},
   "source": [
    "Para SobreTiempo identificaremos Si con 1 y No con 0"
   ]
  },
  {
   "cell_type": "code",
   "execution_count": 39,
   "id": "84081235",
   "metadata": {},
   "outputs": [
    {
     "data": {
      "text/plain": [
       "0    451\n",
       "1    314\n",
       "Name: SobreTiempo, dtype: int64"
      ]
     },
     "execution_count": 39,
     "metadata": {},
     "output_type": "execute_result"
    }
   ],
   "source": [
    "atributo = 'SobreTiempo'\n",
    "def label_categorias(row):\n",
    "    if row[atributo] == 'Si':\n",
    "        return 1\n",
    "    elif row[atributo] == 'No':\n",
    "        return 0\n",
    "    else:\n",
    "        return None\n",
    "df[atributo] = df.apply(lambda row: label_categorias(row), axis=1)\n",
    "pd.value_counts(df['SobreTiempo'])"
   ]
  },
  {
   "cell_type": "code",
   "execution_count": 40,
   "id": "0ffb2f86",
   "metadata": {},
   "outputs": [
    {
     "data": {
      "text/plain": [
       "Edad                       int64\n",
       "ViajesNegocio              int64\n",
       "PermaneceEnEmpresa         int64\n",
       "Distancia_casa             int64\n",
       "Satisfacción_ambiente      int64\n",
       "Genero                     int64\n",
       "Compromiso               float64\n",
       "Satisfaccion_trabajo       int64\n",
       "Estado_civil               int64\n",
       "Ingreso_mensual            int64\n",
       "SobreTiempo                int64\n",
       "Bonos                      int64\n",
       "Años_trabajando            int64\n",
       "Años_Compañia              int64\n",
       "Años_Rol_Actual          float64\n",
       "Años_Actual_Jefe           int64\n",
       "dtype: object"
      ]
     },
     "execution_count": 40,
     "metadata": {},
     "output_type": "execute_result"
    }
   ],
   "source": [
    "df.dtypes"
   ]
  },
  {
   "cell_type": "code",
   "execution_count": 41,
   "id": "6daab608",
   "metadata": {},
   "outputs": [
    {
     "data": {
      "text/plain": [
       "(765, 16)"
      ]
     },
     "execution_count": 41,
     "metadata": {},
     "output_type": "execute_result"
    }
   ],
   "source": [
    "df.shape"
   ]
  },
  {
   "cell_type": "code",
   "execution_count": 42,
   "id": "e3c71294",
   "metadata": {},
   "outputs": [
    {
     "data": {
      "text/plain": [
       "Index(['Edad', 'ViajesNegocio', 'PermaneceEnEmpresa', 'Distancia_casa',\n",
       "       'Satisfacción_ambiente', 'Genero', 'Compromiso', 'Satisfaccion_trabajo',\n",
       "       'Estado_civil', 'Ingreso_mensual', 'SobreTiempo', 'Bonos',\n",
       "       'Años_trabajando', 'Años_Compañia', 'Años_Rol_Actual',\n",
       "       'Años_Actual_Jefe'],\n",
       "      dtype='object')"
      ]
     },
     "execution_count": 42,
     "metadata": {},
     "output_type": "execute_result"
    }
   ],
   "source": [
    "# Vamos a seleccionar de nuestro conjunto solo los atributos numéricos.\n",
    "number_cols = df.dtypes[(df.dtypes == np.int64) | (df.dtypes == np.float64)].index \n",
    "number_cols = df.select_dtypes(include = ['int64','float']).columns\n",
    "number_cols"
   ]
  },
  {
   "cell_type": "code",
   "execution_count": 43,
   "id": "2f0c026b",
   "metadata": {},
   "outputs": [],
   "source": [
    "df = df[number_cols]"
   ]
  },
  {
   "cell_type": "markdown",
   "id": "b4231fb2",
   "metadata": {},
   "source": [
    "### 2. Modelo (árboles de decisión)"
   ]
  },
  {
   "cell_type": "code",
   "execution_count": 44,
   "id": "d11e3564",
   "metadata": {},
   "outputs": [],
   "source": [
    "# Se selecciona la variable objetivo, en este caso \"PermaneceEnEmpresa\".\n",
    "Y = df['PermaneceEnEmpresa']\n",
    "# Del conjunto de datos se elimina la variable \"PermaneceEnEmpresa\"\n",
    "X = df.drop(['PermaneceEnEmpresa'], axis=1)"
   ]
  },
  {
   "cell_type": "code",
   "execution_count": 45,
   "id": "538d4126",
   "metadata": {},
   "outputs": [],
   "source": [
    "# Dividir los datos en entrenamiento y test\n",
    "X_train, X_test, Y_train, Y_test = train_test_split(X, Y, test_size=0.2, random_state=0)"
   ]
  },
  {
   "cell_type": "code",
   "execution_count": 46,
   "id": "a620a631",
   "metadata": {},
   "outputs": [],
   "source": [
    "# Fijemos el número de particiones. Utilizaremos K = 10.\n",
    "particiones = KFold(n_splits=10, shuffle=True, random_state = 0)"
   ]
  },
  {
   "cell_type": "code",
   "execution_count": 47,
   "id": "7e050251",
   "metadata": {},
   "outputs": [],
   "source": [
    "# Establecemos el espacio de búsqueda para los hiperparámetros que deseamos ajustar. \n",
    "param_grid = {'criterion':['gini', 'entropy'],'max_depth':[4,6,8,10,20],'min_samples_split':[2, 3, 4, 5]}"
   ]
  },
  {
   "cell_type": "code",
   "execution_count": 48,
   "id": "6d69a2ff",
   "metadata": {},
   "outputs": [],
   "source": [
    "# Definimos el modelo sin ningún valor de estos hiperparámetros\n",
    "arbol = DecisionTreeClassifier(random_state=0)"
   ]
  },
  {
   "cell_type": "code",
   "execution_count": 49,
   "id": "7d0445e3",
   "metadata": {},
   "outputs": [
    {
     "data": {
      "text/plain": [
       "GridSearchCV(cv=KFold(n_splits=10, random_state=0, shuffle=True),\n",
       "             estimator=DecisionTreeClassifier(random_state=0),\n",
       "             param_grid={'criterion': ['gini', 'entropy'],\n",
       "                         'max_depth': [4, 6, 8, 10, 20],\n",
       "                         'min_samples_split': [2, 3, 4, 5]})"
      ]
     },
     "execution_count": 49,
     "metadata": {},
     "output_type": "execute_result"
    }
   ],
   "source": [
    "# Ahora utilizamos GridSearch sobre el grid definido y con 10 particiones en la validación cruzada.\n",
    "mejor_modelo = GridSearchCV(arbol, param_grid, cv=particiones)\n",
    "# Ajuste del modelo\n",
    "mejor_modelo.fit(X_train, Y_train)"
   ]
  },
  {
   "cell_type": "code",
   "execution_count": 50,
   "id": "e9923acd",
   "metadata": {},
   "outputs": [
    {
     "data": {
      "text/plain": [
       "{'criterion': 'gini', 'max_depth': 4, 'min_samples_split': 2}"
      ]
     },
     "execution_count": 50,
     "metadata": {},
     "output_type": "execute_result"
    }
   ],
   "source": [
    "# Podemos ver cuál fue el resultado de la búsqueda (mejores valores de hiperparámetros)\n",
    "mejor_modelo.best_params_"
   ]
  },
  {
   "cell_type": "code",
   "execution_count": 51,
   "id": "b362b880",
   "metadata": {},
   "outputs": [
    {
     "name": "stdout",
     "output_type": "stream",
     "text": [
      "Exactitud sobre entrenamiento: 0.79\n",
      "Exactitud sobre test: 0.73\n"
     ]
    }
   ],
   "source": [
    "# Obtener el mejor modelo.\n",
    "arbol_final = mejor_modelo.best_estimator_\n",
    "# Probemos ahora este modelo sobre test.\n",
    "y_pred_train = arbol_final.predict(X_train)\n",
    "y_pred_test = arbol_final.predict(X_test)\n",
    "print('Exactitud sobre entrenamiento: %.2f' % accuracy_score(Y_train, y_pred_train))\n",
    "print('Exactitud sobre test: %.2f' % accuracy_score(Y_test, y_pred_test))"
   ]
  },
  {
   "cell_type": "markdown",
   "id": "d688bc20",
   "metadata": {},
   "source": [
    "### 3. Evaluación"
   ]
  },
  {
   "cell_type": "code",
   "execution_count": 52,
   "id": "3e3a8ffa",
   "metadata": {},
   "outputs": [
    {
     "name": "stdout",
     "output_type": "stream",
     "text": [
      "              precision    recall  f1-score   support\n",
      "\n",
      "           0       0.72      0.61      0.66        67\n",
      "           1       0.73      0.81      0.77        86\n",
      "\n",
      "    accuracy                           0.73       153\n",
      "   macro avg       0.72      0.71      0.72       153\n",
      "weighted avg       0.72      0.73      0.72       153\n",
      "\n"
     ]
    },
    {
     "data": {
      "image/png": "[encoded data removed]",
      "text/plain": [
       "<Figure size 432x288 with 2 Axes>"
      ]
     },
     "metadata": {
      "needs_background": "light"
     },
     "output_type": "display_data"
    }
   ],
   "source": [
    "# Mostrar reporte de clasificación\n",
    "print(classification_report(Y_test, y_pred_test))\n",
    "# Se puede visualizar la matriz de confusión\n",
    "plot_confusion_matrix(arbol_final, X_test, Y_test)  \n",
    "plt.show()  "
   ]
  },
  {
   "cell_type": "code",
   "execution_count": 53,
   "id": "22bf7800",
   "metadata": {},
   "outputs": [
    {
     "name": "stdout",
     "output_type": "stream",
     "text": [
      "Datos de prueba\n",
      "              precision    recall  f1-score   support\n",
      "\n",
      "           0       0.79      0.75      0.77       286\n",
      "           1       0.79      0.83      0.81       326\n",
      "\n",
      "    accuracy                           0.79       612\n",
      "   macro avg       0.79      0.79      0.79       612\n",
      "weighted avg       0.79      0.79      0.79       612\n",
      "\n"
     ]
    },
    {
     "data": {
      "image/png": "[encoded data removed]",
      "text/plain": [
       "<Figure size 432x288 with 2 Axes>"
      ]
     },
     "metadata": {
      "needs_background": "light"
     },
     "output_type": "display_data"
    }
   ],
   "source": [
    "# Se imprime el informe de rendimiento\n",
    "print(\"Datos de prueba\")\n",
    "print(classification_report(Y_train, y_pred_train))\n",
    "# Se puede visualizar la matriz de confusión\n",
    "plot_confusion_matrix(arbol_final, X_train, Y_train)  \n",
    "plt.show()  "
   ]
  },
  {
   "cell_type": "markdown",
   "id": "7bfd01f4",
   "metadata": {},
   "source": [
    "Podemos ver que tanto en conjunto entrenamiento como en test el modelo dio un desempeño alto."
   ]
  },
  {
   "cell_type": "markdown",
   "id": "17993c6d",
   "metadata": {},
   "source": [
    "### 4. Interpretación del modelo"
   ]
  },
  {
   "cell_type": "code",
   "execution_count": 54,
   "id": "4e4e13d9",
   "metadata": {},
   "outputs": [
    {
     "data": {
      "text/html": [
       "<div>\n",
       "<style scoped>\n",
       "    .dataframe tbody tr th:only-of-type {\n",
       "        vertical-align: middle;\n",
       "    }\n",
       "\n",
       "    .dataframe tbody tr th {\n",
       "        vertical-align: top;\n",
       "    }\n",
       "\n",
       "    .dataframe thead th {\n",
       "        text-align: right;\n",
       "    }\n",
       "</style>\n",
       "<table border=\"1\" class=\"dataframe\">\n",
       "  <thead>\n",
       "    <tr style=\"text-align: right;\">\n",
       "      <th></th>\n",
       "      <th>Atributo</th>\n",
       "      <th>Importancia</th>\n",
       "    </tr>\n",
       "  </thead>\n",
       "  <tbody>\n",
       "    <tr>\n",
       "      <th>0</th>\n",
       "      <td>Ingreso_mensual</td>\n",
       "      <td>0.349048</td>\n",
       "    </tr>\n",
       "    <tr>\n",
       "      <th>1</th>\n",
       "      <td>SobreTiempo</td>\n",
       "      <td>0.290146</td>\n",
       "    </tr>\n",
       "    <tr>\n",
       "      <th>2</th>\n",
       "      <td>Años_Compañia</td>\n",
       "      <td>0.111007</td>\n",
       "    </tr>\n",
       "    <tr>\n",
       "      <th>3</th>\n",
       "      <td>Estado_civil</td>\n",
       "      <td>0.100891</td>\n",
       "    </tr>\n",
       "    <tr>\n",
       "      <th>4</th>\n",
       "      <td>Satisfacción_ambiente</td>\n",
       "      <td>0.063595</td>\n",
       "    </tr>\n",
       "    <tr>\n",
       "      <th>5</th>\n",
       "      <td>Edad</td>\n",
       "      <td>0.041245</td>\n",
       "    </tr>\n",
       "    <tr>\n",
       "      <th>6</th>\n",
       "      <td>Distancia_casa</td>\n",
       "      <td>0.032618</td>\n",
       "    </tr>\n",
       "    <tr>\n",
       "      <th>7</th>\n",
       "      <td>ViajesNegocio</td>\n",
       "      <td>0.011450</td>\n",
       "    </tr>\n",
       "    <tr>\n",
       "      <th>8</th>\n",
       "      <td>Genero</td>\n",
       "      <td>0.000000</td>\n",
       "    </tr>\n",
       "    <tr>\n",
       "      <th>9</th>\n",
       "      <td>Compromiso</td>\n",
       "      <td>0.000000</td>\n",
       "    </tr>\n",
       "    <tr>\n",
       "      <th>10</th>\n",
       "      <td>Satisfaccion_trabajo</td>\n",
       "      <td>0.000000</td>\n",
       "    </tr>\n",
       "    <tr>\n",
       "      <th>11</th>\n",
       "      <td>Bonos</td>\n",
       "      <td>0.000000</td>\n",
       "    </tr>\n",
       "    <tr>\n",
       "      <th>12</th>\n",
       "      <td>Años_trabajando</td>\n",
       "      <td>0.000000</td>\n",
       "    </tr>\n",
       "    <tr>\n",
       "      <th>13</th>\n",
       "      <td>Años_Rol_Actual</td>\n",
       "      <td>0.000000</td>\n",
       "    </tr>\n",
       "    <tr>\n",
       "      <th>14</th>\n",
       "      <td>Años_Actual_Jefe</td>\n",
       "      <td>0.000000</td>\n",
       "    </tr>\n",
       "  </tbody>\n",
       "</table>\n",
       "</div>"
      ],
      "text/plain": [
       "                 Atributo  Importancia\n",
       "0         Ingreso_mensual     0.349048\n",
       "1             SobreTiempo     0.290146\n",
       "2           Años_Compañia     0.111007\n",
       "3            Estado_civil     0.100891\n",
       "4   Satisfacción_ambiente     0.063595\n",
       "5                    Edad     0.041245\n",
       "6          Distancia_casa     0.032618\n",
       "7           ViajesNegocio     0.011450\n",
       "8                  Genero     0.000000\n",
       "9              Compromiso     0.000000\n",
       "10   Satisfaccion_trabajo     0.000000\n",
       "11                  Bonos     0.000000\n",
       "12        Años_trabajando     0.000000\n",
       "13        Años_Rol_Actual     0.000000\n",
       "14       Años_Actual_Jefe     0.000000"
      ]
     },
     "execution_count": 54,
     "metadata": {},
     "output_type": "execute_result"
    }
   ],
   "source": [
    "# Obtener la importancia de las variables. Mientras mayor el coeficiente, más la importancia.\n",
    "importancia_atributo = pd.DataFrame(data={\"Atributo\": X_train.columns, \"Importancia\": arbol_final.feature_importances_})\n",
    "importancia_atributo = importancia_atributo.sort_values(by = 'Importancia', ascending = False).reset_index(drop = True)\n",
    "importancia_atributo"
   ]
  },
  {
   "cell_type": "markdown",
   "id": "a3240603",
   "metadata": {},
   "source": [
    "Como podemos ver, las variables más importantes que afectan si el empleado permanece o no en la empresa son \"Ingreso mensual\", \"SobreTiempo\" y \"Años en la compañía\". Con base en esto, la compañía puede tratar estas variables para poder disminuir la rotación de empleados."
   ]
  },
  {
   "cell_type": "code",
   "execution_count": 55,
   "id": "56565d94",
   "metadata": {},
   "outputs": [
    {
     "data": {
      "image/png": "[encoded data removed]",
      "text/plain": [
       "<Figure size 1800x720 with 1 Axes>"
      ]
     },
     "metadata": {
      "needs_background": "light"
     },
     "output_type": "display_data"
    }
   ],
   "source": [
    "#Gráfico de los primeros 3 niveles del árbol\n",
    "fig = plt.figure(figsize=(25,10))\n",
    "_ = tree.plot_tree(arbol_final, max_depth=3, feature_names=X.columns, class_names=[\"0\", \"1\", \"2\"], filled=True, fontsize=9)"
   ]
  },
  {
   "cell_type": "markdown",
   "id": "d783cd8e",
   "metadata": {},
   "source": [
    "Ahora podemos probar el modelo con un valor del conjunto:"
   ]
  },
  {
   "cell_type": "code",
   "execution_count": 56,
   "id": "c04fcf2c",
   "metadata": {},
   "outputs": [
    {
     "name": "stdout",
     "output_type": "stream",
     "text": [
      "[[0.02040816 0.97959184]]\n"
     ]
    }
   ],
   "source": [
    "# Se calcula la probabilidad de que un dato cualquiera sea puesto en cada categoría\n",
    "print(arbol_final.predict_proba(X_test.iloc[[13]]))"
   ]
  },
  {
   "cell_type": "markdown",
   "id": "0b72bdea",
   "metadata": {},
   "source": [
    "En este caso, el valor 13 tiene una probabilidad del 2% de dejar la empresa."
   ]
  },
  {
   "cell_type": "markdown",
   "id": "7c0fdab3",
   "metadata": {},
   "source": [
    "### 5. Valor para el negocio"
   ]
  },
  {
   "cell_type": "markdown",
   "id": "bc296d96",
   "metadata": {},
   "source": [
    "Concluimos que el modelo sirve para poder predecir si un empleado va a dejar la compañía o no, esto permitiría a la compañía tomar decisiones respecto al empleado y las variables más importantes que afectan si se queda o no en la compañía."
   ]
  },
  {
   "cell_type": "markdown",
   "id": "4e0e5258",
   "metadata": {},
   "source": [
    "## Parcial 1 - parte 2"
   ]
  },
  {
   "cell_type": "markdown",
   "id": "bb06c467",
   "metadata": {},
   "source": [
    "La empresa no ha decidido usar la tarea que se propuso previamente, entonces se hará uso de una nueva tarea con el algoritmo KNN."
   ]
  },
  {
   "cell_type": "markdown",
   "id": "f9d991be",
   "metadata": {},
   "source": [
    "### Construcción del modelo con KNN:"
   ]
  },
  {
   "cell_type": "markdown",
   "id": "5b5e6e4e",
   "metadata": {},
   "source": [
    "Para usar el algoritmo KNN tenemos que establecer sus hiperparámetros, para esto establecemos el espacio de búsqueda y usaremos GridSearchCV para iterar en los valores y hallar los mejores hiperparámetros."
   ]
  },
  {
   "cell_type": "code",
   "execution_count": 57,
   "id": "b7748d98",
   "metadata": {},
   "outputs": [],
   "source": [
    "# Primero definamos el espacio de búsqueda\n",
    "n_vecinos =  list(range(1,11))"
   ]
  },
  {
   "cell_type": "code",
   "execution_count": 58,
   "id": "d991ea52",
   "metadata": {},
   "outputs": [],
   "source": [
    "param_grid = {'n_neighbors': n_vecinos, 'p': [1, 2]}"
   ]
  },
  {
   "cell_type": "code",
   "execution_count": 59,
   "id": "72e4c995",
   "metadata": {},
   "outputs": [
    {
     "name": "stdout",
     "output_type": "stream",
     "text": [
      "Mejor parámetro: {'n_neighbors': 7, 'p': 1}\n",
      "Mejor cross-validation score: 0.63\n"
     ]
    }
   ],
   "source": [
    "clasificadorKNN = KNeighborsClassifier()\n",
    "modelo_Knn = GridSearchCV(clasificadorKNN, param_grid, cv=particiones)\n",
    "modelo_Knn.fit(X_train,Y_train) \n",
    "print(\"Mejor parámetro: {}\".format(modelo_Knn.best_params_)) \n",
    "print(\"Mejor cross-validation score: {:.2f}\".format(modelo_Knn.best_score_))"
   ]
  },
  {
   "cell_type": "markdown",
   "id": "e9773397",
   "metadata": {},
   "source": [
    "Los mejores hiperparámetros que nos arrojó fueron n_neighbors igual a 7, p igual a 1 y cross-validation score igual a 0.63"
   ]
  },
  {
   "cell_type": "code",
   "execution_count": 60,
   "id": "c4e9f0d1",
   "metadata": {},
   "outputs": [
    {
     "name": "stdout",
     "output_type": "stream",
     "text": [
      "Exactitud sobre entrenamiento: 0.72\n",
      "Exactitud sobre test: 0.54\n"
     ]
    }
   ],
   "source": [
    "# Obtener el mejor modelo.\n",
    "modelo_final = modelo_Knn.best_estimator_\n",
    "# Probemos ahora este modelo sobre test.\n",
    "y_pred_train = modelo_final.predict(X_train)\n",
    "y_pred_test = modelo_final.predict(X_test)\n",
    "print('Exactitud sobre entrenamiento: %.2f' % accuracy_score(Y_train, y_pred_train))\n",
    "print('Exactitud sobre test: %.2f' % accuracy_score(Y_test, y_pred_test))"
   ]
  },
  {
   "cell_type": "code",
   "execution_count": 64,
   "id": "47cf7010",
   "metadata": {},
   "outputs": [
    {
     "name": "stdout",
     "output_type": "stream",
     "text": [
      "              precision    recall  f1-score   support\n",
      "\n",
      "           0       0.69      0.71      0.70       286\n",
      "           1       0.74      0.73      0.73       326\n",
      "\n",
      "    accuracy                           0.72       612\n",
      "   macro avg       0.72      0.72      0.72       612\n",
      "weighted avg       0.72      0.72      0.72       612\n",
      "\n"
     ]
    },
    {
     "data": {
      "image/png": "[encoded data removed]",
      "text/plain": [
       "<Figure size 432x288 with 2 Axes>"
      ]
     },
     "metadata": {
      "needs_background": "light"
     },
     "output_type": "display_data"
    }
   ],
   "source": [
    "# Mostrar reporte de clasificación sobre entrenamiento\n",
    "print(classification_report(Y_train, y_pred_train))\n",
    "# Se puede visualizar la matriz de confusión\n",
    "plot_confusion_matrix(modelo_final, X_train, Y_train)  \n",
    "plt.show() "
   ]
  },
  {
   "cell_type": "code",
   "execution_count": 65,
   "id": "ec7be393",
   "metadata": {},
   "outputs": [
    {
     "name": "stdout",
     "output_type": "stream",
     "text": [
      "              precision    recall  f1-score   support\n",
      "\n",
      "           0       0.47      0.54      0.50        67\n",
      "           1       0.60      0.53      0.56        86\n",
      "\n",
      "    accuracy                           0.54       153\n",
      "   macro avg       0.54      0.54      0.53       153\n",
      "weighted avg       0.54      0.54      0.54       153\n",
      "\n"
     ]
    },
    {
     "data": {
      "image/png": "[encoded data removed]",
      "text/plain": [
       "<Figure size 432x288 with 2 Axes>"
      ]
     },
     "metadata": {
      "needs_background": "light"
     },
     "output_type": "display_data"
    }
   ],
   "source": [
    "# Mostrar reporte de clasificación sobre test\n",
    "print(classification_report(Y_test, y_pred_test))\n",
    "# Se puede visualizar la matriz de confusión\n",
    "plot_confusion_matrix(modelo_final, X_test, Y_test)  \n",
    "plt.show()  "
   ]
  },
  {
   "cell_type": "markdown",
   "id": "b944e1fa",
   "metadata": {},
   "source": [
    "En el caso de uso del modelo con algoritmo KNN obtuvimos un desempeño en conjunto de entrenamiento del 72% y en el conjunto test del 54%, pero resulta que el algoritmo de árboles de decisión obtuvo un desempeño en conjunto de entrenamiento del 79% y en el conjunto test del 72%."
   ]
  },
  {
   "cell_type": "markdown",
   "id": "fc7ebcd2",
   "metadata": {},
   "source": [
    "### Interpretación del modelo:"
   ]
  },
  {
   "cell_type": "code",
   "execution_count": 66,
   "id": "c73f4c71",
   "metadata": {},
   "outputs": [
    {
     "name": "stdout",
     "output_type": "stream",
     "text": [
      "[[0.42857143 0.57142857]]\n"
     ]
    }
   ],
   "source": [
    "# Se calcula la probabilidad de que un dato cualquiera sea puesto en cada categoría\n",
    "print(modelo_final.predict_proba(X_test.iloc[[13]]))"
   ]
  },
  {
   "cell_type": "markdown",
   "id": "fcf81454",
   "metadata": {},
   "source": [
    "Usando el algoritmo KNN para el registro 13 nos muestra una probabilidad del 42% de que el empleado no permanezca en la empresa, mientras que cuando usamos el algoritmo árboles de decisión con el mismo registro, este nos dio un valor del 2% de que el empleado no permanezca en la empresa."
   ]
  },
  {
   "cell_type": "markdown",
   "id": "71f53ed0",
   "metadata": {},
   "source": [
    "### Valor para el negocio:"
   ]
  },
  {
   "cell_type": "markdown",
   "id": "7c63f29d",
   "metadata": {},
   "source": [
    "Viendo los resultados del uso de ambos algoritmos como tareas de aprendizaje, se le recomendaría a la empresa el aceptar usar el algoritmo de árboles de decisión sobre el de KNN. No solo el desempeño es más alto en árboles de decisión sino que también muestra las variables más importantes que afectan si el empleado permanece en la empresa o no."
   ]
  },
  {
   "cell_type": "code",
   "execution_count": null,
   "id": "ea9c5b14",
   "metadata": {},
   "outputs": [],
   "source": []
  }
 ],
 "metadata": {
  "kernelspec": {
   "display_name": "Python 3 (ipykernel)",
   "language": "python",
   "name": "python3"
  },
  "language_info": {
   "codemirror_mode": {
    "name": "ipython",
    "version": 3
   },
   "file_extension": ".py",
   "mimetype": "text/x-python",
   "name": "python",
   "nbconvert_exporter": "python",
   "pygments_lexer": "ipython3",
   "version": "3.9.7"
  }
 },
 "nbformat": 4,
 "nbformat_minor": 5
}
